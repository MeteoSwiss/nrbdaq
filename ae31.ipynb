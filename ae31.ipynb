{
 "cells": [
  {
   "cell_type": "code",
   "execution_count": 1,
   "metadata": {},
   "outputs": [
    {
     "name": "stderr",
     "output_type": "stream",
     "text": [
      "{dtm: 2024-07-15 11:06:22,253, source: nrbdaq.instr.ae31, level: INFO, msg: AE31_20240715T11.parquet staged and stored.}\n",
      "{dtm: 2024-07-15 11:11:30,272, source: nrbdaq.instr.ae31, level: INFO, msg: AE31_20240715T11.parquet staged and stored.}\n",
      "{dtm: 2024-07-15 11:16:32,442, source: nrbdaq.instr.ae31, level: ERROR, msg: General error: cannot access local variable 'raw_data' where it is not associated with a value}\n",
      "{dtm: 2024-07-15 11:21:32,630, source: nrbdaq.instr.ae31, level: ERROR, msg: General error: cannot access local variable 'raw_data' where it is not associated with a value}\n",
      "{dtm: 2024-07-15 11:26:32,864, source: nrbdaq.instr.ae31, level: ERROR, msg: General error: cannot access local variable 'raw_data' where it is not associated with a value}\n"
     ]
    },
    {
     "ename": "KeyboardInterrupt",
     "evalue": "",
     "output_type": "error",
     "traceback": [
      "\u001b[1;31m---------------------------------------------------------------------------\u001b[0m",
      "\u001b[1;31mKeyboardInterrupt\u001b[0m                         Traceback (most recent call last)",
      "Cell \u001b[1;32mIn[1], line 4\u001b[0m\n\u001b[0;32m      1\u001b[0m \u001b[38;5;28;01mfrom\u001b[39;00m \u001b[38;5;21;01mnrbdaq\u001b[39;00m\u001b[38;5;21;01m.\u001b[39;00m\u001b[38;5;21;01minstr\u001b[39;00m\u001b[38;5;21;01m.\u001b[39;00m\u001b[38;5;21;01mae31\u001b[39;00m \u001b[38;5;28;01mimport\u001b[39;00m AE31\n\u001b[0;32m      3\u001b[0m ae31 \u001b[38;5;241m=\u001b[39m AE31(config_file\u001b[38;5;241m=\u001b[39m\u001b[38;5;124m'\u001b[39m\u001b[38;5;124mnrbdaq.cfg\u001b[39m\u001b[38;5;124m'\u001b[39m)\n\u001b[1;32m----> 4\u001b[0m \u001b[43mae31\u001b[49m\u001b[38;5;241;43m.\u001b[39;49m\u001b[43mstart\u001b[49m\u001b[43m(\u001b[49m\u001b[43m)\u001b[49m\n",
      "File \u001b[1;32mc:\\Users\\jkl\\Documents\\git\\nrbdaq\\nrbdaq\\instr\\ae31.py:116\u001b[0m, in \u001b[0;36mstart\u001b[1;34m(self)\u001b[0m\n\u001b[0;32m    112\u001b[0m \u001b[38;5;28;01mdef\u001b[39;00m \u001b[38;5;21mplot_data\u001b[39m(\u001b[38;5;28mself\u001b[39m, filepath: \u001b[38;5;28mstr\u001b[39m, save: \u001b[38;5;28mbool\u001b[39m\u001b[38;5;241m=\u001b[39m\u001b[38;5;28;01mTrue\u001b[39;00m):\n\u001b[0;32m    113\u001b[0m     df \u001b[38;5;241m=\u001b[39m pl\u001b[38;5;241m.\u001b[39mread_parquet(filepath)\n\u001b[1;32m--> 116\u001b[0m \u001b[38;5;28;01mdef\u001b[39;00m \u001b[38;5;21mstart\u001b[39m(\u001b[38;5;28mself\u001b[39m):\n\u001b[0;32m    117\u001b[0m \u001b[38;5;250m    \u001b[39m\u001b[38;5;124;03m\"\"\"\u001b[39;00m\n\u001b[0;32m    118\u001b[0m \u001b[38;5;124;03m    Start the data collection process.\u001b[39;00m\n\u001b[0;32m    119\u001b[0m \u001b[38;5;124;03m    \"\"\"\u001b[39;00m\n\u001b[0;32m    120\u001b[0m     schedule\u001b[38;5;241m.\u001b[39mevery(\u001b[38;5;28mint\u001b[39m(\u001b[38;5;28mself\u001b[39m\u001b[38;5;241m.\u001b[39mread_interval))\u001b[38;5;241m.\u001b[39mminutes\u001b[38;5;241m.\u001b[39mdo(\u001b[38;5;28mself\u001b[39m\u001b[38;5;241m.\u001b[39mcollect_readings)\n",
      "\u001b[1;31mKeyboardInterrupt\u001b[0m: "
     ]
    }
   ],
   "source": [
    "from nrbdaq.instr.ae31 import AE31\n",
    "\n",
    "ae31 = AE31(config_file='nrbdaq.cfg')\n",
    "ae31.start()"
   ]
  }
 ],
 "metadata": {
  "kernelspec": {
   "display_name": ".venv",
   "language": "python",
   "name": "python3"
  },
  "language_info": {
   "codemirror_mode": {
    "name": "ipython",
    "version": 3
   },
   "file_extension": ".py",
   "mimetype": "text/x-python",
   "name": "python",
   "nbconvert_exporter": "python",
   "pygments_lexer": "ipython3",
   "version": "3.11.1"
  }
 },
 "nbformat": 4,
 "nbformat_minor": 2
}
