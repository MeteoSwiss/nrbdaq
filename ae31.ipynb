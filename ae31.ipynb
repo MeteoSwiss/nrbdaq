{
 "cells": [
  {
   "cell_type": "code",
   "execution_count": null,
   "metadata": {},
   "outputs": [],
   "source": [
    "from nrbdaq.instr.ae31 import AE31\n",
    "\n",
    "ae31 = AE31(config_file='nrbdaq.cfg')\n",
    "ae31.start()"
   ]
  },
  {
   "cell_type": "code",
   "execution_count": 1,
   "metadata": {},
   "outputs": [
    {
     "data": {
      "text/plain": [
       "'1144,\"16-jul-24\",\"06:00\",  1282,  1373,  1274,  1331,  1438,  1402,  1419,  3.8,'"
      ]
     },
     "execution_count": 1,
     "metadata": {},
     "output_type": "execute_result"
    }
   ],
   "source": [
    "data_received = '1144,\"16-jul-24\",\"06:00\",  1282,  1373,  1274,  1331,  1438,  1402,  1419,  3.8, 0.0212,  .5723, 012, 2.8961,  .54,108.738, 0.0212,  .5019, 0.0212, 2.1202,  .54, 80.808, 0.0212,  .8700, 0.0212, 2.2,  .54, 70.328, 0.0212,  .7597, 0.0212,  .9904,  .54, 62.866, 0.0212,  .6186, 0.0212, 1.4194,  .555.992, 0.0212,  .5815, 0.0212,  .7866,  .54, 40.646, 0.0212, 1.0857, 0.0212, 1.6739,  .54, 37.639'\n",
    "\n",
    "data_received[:80]"
   ]
  }
 ],
 "metadata": {
  "kernelspec": {
   "display_name": ".venv",
   "language": "python",
   "name": "python3"
  },
  "language_info": {
   "codemirror_mode": {
    "name": "ipython",
    "version": 3
   },
   "file_extension": ".py",
   "mimetype": "text/x-python",
   "name": "python",
   "nbconvert_exporter": "python",
   "pygments_lexer": "ipython3",
   "version": "3.11.1"
  }
 },
 "nbformat": 4,
 "nbformat_minor": 2
}
