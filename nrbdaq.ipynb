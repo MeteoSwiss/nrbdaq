{
 "cells": [
  {
   "cell_type": "code",
   "execution_count": null,
   "metadata": {},
   "outputs": [],
   "source": [
    "# import configparser\n",
    "import logging\n",
    "from nrbdaq.instr.ae31 import AE31\n",
    "from nrbdaq.utils.sftp import SFTPClient\n",
    "from nrbdaq.utils.utils import load_config, setup_logger\n",
    "\n",
    "def main():\n",
    "    config = load_config('nrbdaq.cfg')\n",
    "\n",
    "    logger = setup_logger(name=__name__,\n",
    "                          file=config['logging']['file'], \n",
    "                          level_console=config['logging']['level_console'], \n",
    "                          level_file=config['logging']['level_file'])\n",
    "    logger.info('started')\n",
    "\n",
    "    ae31 = AE31(config_file='nrbdaq.cfg')\n",
    "    ae31.start()\n",
    "\n",
    "if __name__==\"__main__\":\n",
    "    main()\n"
   ]
  },
  {
   "cell_type": "code",
   "execution_count": 11,
   "metadata": {},
   "outputs": [],
   "source": [
    "# 14.9.3  Data File Format - Seven wavelength Instruments \n",
    "# The AE-3 series seven wavelength Aethalometers measure optical \n",
    "# absorbance at seven optical wavelengths from 370 to 950 nm.  The data \n",
    "# are reported on a single line written to disk as follows: \n",
    "# • Expanded Data Format:  “date”, “time”, UV [370 nm] result,  \n",
    "# Blue [470 nm] result, Green [520 nm] result, Yellow [590 nm] \n",
    "# result, Red [660 nm] result, IR1 [880 nm, “standard BC”] result, \n",
    "# IR2 [950 nm] result,  air flow (LPM), bypass fraction, \n",
    "# and then the following columns of data repeated for the seven \n",
    "# measurement wavelengths: \n",
    "# sensing zero signal, sensing beam signal, reference zero signal, \n",
    "# reference beam signal, optical attenuation, air flow (LPM), bypass \n",
    "# fraction.    \n",
    "# The ‘air flow’ and ‘bypass fraction’ columns are repeated to allow for \n",
    "# easy visual identification of the separation between the seven sets of \n",
    "# data columns. \n",
    "# A typical line in the data file might look like: \n",
    "# \"24-jul-00\",\"16:40\", 610 , 604 , 605 , 612 , 617 , 611 , 641 , 3.131 ,-\n",
    "# .9812 ,-.9814 , 1.1881 , 1.8384 , 1 , 6.4 , 2.704 ,-.9812 ,-.9814 , 4.2483 \n",
    "# , 2.7373 , 1 , 6.4 , 2.45 ,-.9812 ,-.9814 , 2.1716 , 1.9438 , 1 , 6.4 , 2.232 \n",
    "# ,-.9812 ,-.9814 , 2.854 , 3.5259 , 1 , 6.4 , 1.957 ,-.9812 ,-.9814 , 3.3428 \n",
    "# , 2.596 , 1 , 6.4 , 1.452 ,-.9812 ,-.9814 , 4.6719 , 3.3935 , 1 , 6.4 , 1.396 \n",
    "# ,-.9812 ,-.9814 , 2.705 , 2.438 , 1 , 6.4  \n",
    "\n",
    "import os\n",
    "import polars as pl\n",
    "\n",
    "source = \"nrbdaq/data/ae31\"\n",
    "df = pl.DataFrame()\n",
    "\n",
    "for root, dirs, files in os.walk(source):\n",
    "    for file in files:\n",
    "        if df.is_empty():\n",
    "            df = pl.read_csv(os.path.join(root, file), has_header=False)\n",
    "        else:\n",
    "            try:\n",
    "                df = pl.concat([df, pl.read_csv(os.path.join(root, file), has_header=False)], how=\"diagonal\")\n",
    "            except:\n",
    "                print(f\"{file} could not be appended.\")\n",
    "                pass\n",
    "\n",
    "df.describe()\n",
    "df.write_parquet('ae31_nrb.parquet')"
   ]
  }
 ],
 "metadata": {
  "kernelspec": {
   "display_name": ".venv",
   "language": "python",
   "name": "python3"
  },
  "language_info": {
   "codemirror_mode": {
    "name": "ipython",
    "version": 3
   },
   "file_extension": ".py",
   "mimetype": "text/x-python",
   "name": "python",
   "nbconvert_exporter": "python",
   "pygments_lexer": "ipython3",
   "version": "3.11.7"
  }
 },
 "nbformat": 4,
 "nbformat_minor": 2
}
