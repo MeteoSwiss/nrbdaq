{
 "cells": [
  {
   "cell_type": "code",
   "execution_count": null,
   "metadata": {},
   "outputs": [],
   "source": [
    "# import configparser\n",
    "import logging\n",
    "from nrbdaq.instr.ae31 import AE31\n",
    "from nrbdaq.utils.sftp import SFTPClient\n",
    "from nrbdaq.utils.utils import load_config, setup_logger\n",
    "\n",
    "def main():\n",
    "    config = load_config('nrbdaq.cfg')\n",
    "\n",
    "    logger = setup_logger(name=__name__,\n",
    "                          file=config['logging']['file'], \n",
    "                          level_console=config['logging']['level_console'], \n",
    "                          level_file=config['logging']['level_file'])\n",
    "    logger.info('started')\n",
    "\n",
    "    ae31 = AE31(config_file='nrbdaq.cfg')\n",
    "    ae31.start()\n",
    "\n",
    "if __name__==\"__main__\":\n",
    "    main()\n"
   ]
  },
  {
   "cell_type": "code",
   "execution_count": 11,
   "metadata": {},
   "outputs": [],
   "source": [
    "import os\n",
    "import polars as pl\n",
    "\n",
    "source = \"nrbdaq/data/ae31\"\n",
    "df = pl.DataFrame()\n",
    "\n",
    "for root, dirs, files in os.walk(source):\n",
    "    for file in files:\n",
    "        if df.is_empty():\n",
    "            df = pl.read_csv(os.path.join(root, file), has_header=False)\n",
    "        else:\n",
    "            try:\n",
    "                df = pl.concat([df, pl.read_csv(os.path.join(root, file), has_header=False)], how=\"diagonal\")\n",
    "            except:\n",
    "                print(f\"{file} could not be appended.\")\n",
    "                pass\n",
    "\n",
    "df.describe()\n",
    "df.write_parquet('ae31_nrb.parquet')"
   ]
  }
 ],
 "metadata": {
  "kernelspec": {
   "display_name": ".venv",
   "language": "python",
   "name": "python3"
  },
  "language_info": {
   "codemirror_mode": {
    "name": "ipython",
    "version": 3
   },
   "file_extension": ".py",
   "mimetype": "text/x-python",
   "name": "python",
   "nbconvert_exporter": "python",
   "pygments_lexer": "ipython3",
   "version": "3.11.7"
  }
 },
 "nbformat": 4,
 "nbformat_minor": 2
}
