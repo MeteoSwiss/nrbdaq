{
 "cells": [
  {
   "cell_type": "code",
   "execution_count": 31,
   "metadata": {},
   "outputs": [
    {
     "ename": "ImportError",
     "evalue": "cannot import name 'get_data' from 'instr.iqair' (/product_data/data/pay/Kenya/git/nrbdaq/nrbdaq/instr/iqair.py)",
     "output_type": "error",
     "traceback": [
      "\u001b[0;31m---------------------------------------------------------------------------\u001b[0m",
      "\u001b[0;31mImportError\u001b[0m                               Traceback (most recent call last)",
      "Cell \u001b[0;32mIn[31], line 5\u001b[0m\n\u001b[1;32m      3\u001b[0m \u001b[38;5;28;01mimport\u001b[39;00m \u001b[38;5;21;01mrequests\u001b[39;00m\n\u001b[1;32m      4\u001b[0m \u001b[38;5;28;01mimport\u001b[39;00m \u001b[38;5;21;01mpolars\u001b[39;00m \u001b[38;5;28;01mas\u001b[39;00m \u001b[38;5;21;01mpl\u001b[39;00m\n\u001b[0;32m----> 5\u001b[0m \u001b[38;5;28;01mfrom\u001b[39;00m \u001b[38;5;21;01minstr\u001b[39;00m\u001b[38;5;21;01m.\u001b[39;00m\u001b[38;5;21;01miqair\u001b[39;00m \u001b[38;5;28;01mimport\u001b[39;00m get_data, data_to_dfs\n\u001b[1;32m      7\u001b[0m url_mogogosiek \u001b[38;5;241m=\u001b[39m \u001b[38;5;124m\"\u001b[39m\u001b[38;5;124mhttps://device.iqair.com/v2/64b78e3ed49ffdbbf25ce862\u001b[39m\u001b[38;5;124m\"\u001b[39m\n\u001b[1;32m      8\u001b[0m url_nairobi \u001b[38;5;241m=\u001b[39m \u001b[38;5;124m\"\u001b[39m\u001b[38;5;124mhttps://device.iqair.com/v2/64b79227b6f7b1125b019970\u001b[39m\u001b[38;5;124m\"\u001b[39m\n",
      "\u001b[0;31mImportError\u001b[0m: cannot import name 'get_data' from 'instr.iqair' (/product_data/data/pay/Kenya/git/nrbdaq/nrbdaq/instr/iqair.py)"
     ]
    }
   ],
   "source": [
    "# import os\n",
    "# import json\n",
    "# import requests\n",
    "import polars as pl\n",
    "from instr import iqair\n",
    "\n",
    "url_mogogosiek = \"https://device.iqair.com/v2/64b78e3ed49ffdbbf25ce862\"\n",
    "url_nairobi = \"https://device.iqair.com/v2/64b79227b6f7b1125b019970\"\n",
    "url_bomet = \"https://device.iqair.com/v2/64ad7a78e939e8f45b826839\"\n",
    "\n",
    "data = iqair.get_data(url=url_nairobi)\n",
    "dfs = iqair.data_to_dfs(data=data, file_path='../nrbdaq/data/iqair')\n"
   ]
  },
  {
   "cell_type": "code",
   "execution_count": null,
   "metadata": {},
   "outputs": [],
   "source": [
    "dfs"
   ]
  },
  {
   "cell_type": "code",
   "execution_count": null,
   "metadata": {},
   "outputs": [],
   "source": [
    "data['historical']['daily']\n",
    "print(data)\n",
    "# df = pl.from_dicts(data)"
   ]
  }
 ],
 "metadata": {
  "kernelspec": {
   "display_name": "Python 3",
   "language": "python",
   "name": "python3"
  },
  "language_info": {
   "codemirror_mode": {
    "name": "ipython",
    "version": 3
   },
   "file_extension": ".py",
   "mimetype": "text/x-python",
   "name": "python",
   "nbconvert_exporter": "python",
   "pygments_lexer": "ipython3",
   "version": "3.11.7"
  }
 },
 "nbformat": 4,
 "nbformat_minor": 2
}
