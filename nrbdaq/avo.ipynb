{
 "cells": [
  {
   "cell_type": "code",
   "execution_count": null,
   "metadata": {},
   "outputs": [],
   "source": [
    "# import os\n",
    "# import json\n",
    "# import requests\n",
    "import polars as pl\n",
    "from instr import avo\n",
    "\n",
    "url_mogogosiek = \"https://device.iqair.com/v2/64b78e3ed49ffdbbf25ce862\"\n",
    "url_nairobi = \"https://device.iqair.com/v2/64b79227b6f7b1125b019970\"\n",
    "url_bomet = \"https://device.iqair.com/v2/64ad7a78e939e8f45b826839\"\n",
    "\n",
    "data = avo.get_data(url=url_nairobi)\n",
    "dfs = avo.data_to_dfs(data=data, file_path='../nrbdaq/data/avo')\n"
   ]
  }
 ],
 "metadata": {
  "kernelspec": {
   "display_name": "Python 3",
   "language": "python",
   "name": "python3"
  },
  "language_info": {
   "codemirror_mode": {
    "name": "ipython",
    "version": 3
   },
   "file_extension": ".py",
   "mimetype": "text/x-python",
   "name": "python",
   "nbconvert_exporter": "python",
   "pygments_lexer": "ipython3",
   "version": "3.11.7"
  }
 },
 "nbformat": 4,
 "nbformat_minor": 2
}
