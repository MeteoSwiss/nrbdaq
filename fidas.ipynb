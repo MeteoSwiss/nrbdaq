{
 "cells": [
  {
   "cell_type": "code",
   "execution_count": 2,
   "id": "98eb90a2",
   "metadata": {},
   "outputs": [
    {
     "ename": "TimeoutError",
     "evalue": "timed out",
     "output_type": "error",
     "traceback": [
      "\u001b[31m---------------------------------------------------------------------------\u001b[39m",
      "\u001b[31mTimeoutError\u001b[39m                              Traceback (most recent call last)",
      "\u001b[36mCell\u001b[39m\u001b[36m \u001b[39m\u001b[32mIn[2]\u001b[39m\u001b[32m, line 11\u001b[39m\n\u001b[32m      8\u001b[39m s.bind((\u001b[33m\"\u001b[39m\u001b[33m0.0.0.0\u001b[39m\u001b[33m\"\u001b[39m, \u001b[32m56790\u001b[39m))\n\u001b[32m     10\u001b[39m \u001b[38;5;28;01mwhile\u001b[39;00m \u001b[38;5;28;01mTrue\u001b[39;00m:\n\u001b[32m---> \u001b[39m\u001b[32m11\u001b[39m     data, addr = \u001b[43ms\u001b[49m\u001b[43m.\u001b[49m\u001b[43mrecvfrom\u001b[49m\u001b[43m(\u001b[49m\u001b[32;43m8192\u001b[39;49m\u001b[43m)\u001b[49m\n\u001b[32m     12\u001b[39m     \u001b[38;5;28;01mif\u001b[39;00m \u001b[33m'\u001b[39m\u001b[33m>\u001b[39m\u001b[33m'\u001b[39m \u001b[38;5;129;01min\u001b[39;00m data.decode():\n\u001b[32m     13\u001b[39m         \u001b[38;5;28mprint\u001b[39m(\u001b[33mf\u001b[39m\u001b[33m\"\u001b[39m\u001b[38;5;132;01m{\u001b[39;00mtime.strftime(\u001b[33m\"\u001b[39m\u001b[33m%\u001b[39m\u001b[33mY-\u001b[39m\u001b[33m%\u001b[39m\u001b[33mm-\u001b[39m\u001b[38;5;132;01m%d\u001b[39;00m\u001b[33m \u001b[39m\u001b[33m%\u001b[39m\u001b[33mH:\u001b[39m\u001b[33m%\u001b[39m\u001b[33mM:\u001b[39m\u001b[33m%\u001b[39m\u001b[33mS\u001b[39m\u001b[33m\"\u001b[39m)\u001b[38;5;132;01m}\u001b[39;00m\u001b[33m \u001b[39m\u001b[38;5;132;01m{\u001b[39;00mdata.decode()\u001b[38;5;132;01m}\u001b[39;00m\u001b[33m\"\u001b[39m)\n",
      "\u001b[31mTimeoutError\u001b[39m: timed out"
     ]
    }
   ],
   "source": [
    "import socket\n",
    "import time\n",
    "\n",
    "# open socket connection as a client\n",
    "with socket.socket(socket.AF_INET, socket.SOCK_DGRAM, ) as s:\n",
    "    # connect to the server\n",
    "    s.settimeout(5)\n",
    "    s.bind((\"0.0.0.0\", 56790))\n",
    "\n",
    "    while True:\n",
    "        data, addr = s.recvfrom(8192)\n",
    "        if '>' in data.decode():\n",
    "            print(f\"{time.strftime(\"%Y-%m-%d %H:%M:%S\")} {data.decode()}\")\n",
    "        else:\n",
    "            print(f\"{time.strftime(\"%Y-%m-%d %H:%M:%S\")} no '>' in data or no data received\")"
   ]
  },
  {
   "cell_type": "code",
   "execution_count": null,
   "id": "1a698fdc",
   "metadata": {},
   "outputs": [],
   "source": [
    "from nrbdaq.instr.fidas import FIDAS\n",
    "from nrbdaq.utils.utils import load_config\n",
    "\n",
    "config = load_config(config_file=\"nrbdaq.yml\")\n",
    "with FIDAS(config=config) as fidas:\n",
    "    if fidas:\n",
    "        fidas.run()\n"
   ]
  },
  {
   "cell_type": "code",
   "execution_count": null,
   "id": "7ec25f7b",
   "metadata": {},
   "outputs": [],
   "source": [
    "import os\n",
    "import polars as pl\n",
    "\n",
    "source = \"tests/data/fidas\"\n",
    "\n",
    "fidas_data_fields = {\n",
    "    0: \"status bit sensor flow\",\n",
    "    1: \"status bit coincidence\",\n",
    "    2: \"status bit suction pumps\",\n",
    "    3: \"status bit weather station\",\n",
    "    4: \"status bit IADS\",\n",
    "    5: \"status bit estimated raw channel deviation\",\n",
    "    6: \"status bit LED temperature\",\n",
    "    7: \"status bit operating modus\",\n",
    "    20: \"velocity [m/s]\",\n",
    "    21: \"coincidence [%]\",\n",
    "    22: \"modus\",\n",
    "    23: \"suction pump output [%]\",\n",
    "    24: \"IADS temperature (Fidas) evaporation unit (UF-CPC), sensor #1 (Promo) [°C]\",\n",
    "    25: \"estimated raw channel deviation [channels]\",\n",
    "    26: \"LED temperature [°C]\",\n",
    "    27: \"flow rate [l/min]\",\n",
    "    28: \"Cn for UF-CPC [P/cm³] (count and nephelometer modus)\",\n",
    "    29: \"x50 droplet diameter (UF-CPC) [μm]\",\n",
    "    30: \"temperature of condensation unit (UF-CPC), sensor #2 (Promo) [°C]\",\n",
    "    40: \"temperature [°C]\",\n",
    "    41: \"relative humidity [%]\",\n",
    "    42: \"wind speed [km/h]\",\n",
    "    43: \"wind direction [°]\",\n",
    "    44: \"precipitation intensity [l/m²/h]\",\n",
    "    45: \"precipitation type\",\n",
    "    46: \"temperature dew point [°C]\",\n",
    "    47: \"air pressure [hPa]\",\n",
    "    48: \"wind signal quality [%]\",\n",
    "    # Fidas/Promo only:\n",
    "    52: \"PM2.5 [mg/m³] - 1 s average\",\n",
    "    53: \"PM10 [mg/m³] - 1 s average\",\n",
    "    54: \"PM1 [mg/m³] - 10 s average\",\n",
    "    55: \"PM2.5 [mg/m³] - 10 s average\",\n",
    "    56: \"PM10 [mg/m³] - 10 s average\",\n",
    "    57: \"PMtot [mg/m³] - 10 s average\",\n",
    "    58: \"PM2.5 [mg/m³] - 60 s average\",\n",
    "    59: \"PM10 [mg/m³] - 60 s average\",\n",
    "    60: \"Cn [P/cm³] (PM averaging interval, default: 900s)\",\n",
    "    61: \"PM1 [mg/m³]\",\n",
    "    62: \"PM2.5 [mg/m³]\",\n",
    "    63: \"PM4 [mg/m³]\",\n",
    "    64: \"PM10 [mg/m³]\",\n",
    "    65: \"PMtotal [mg/m³]\",\n",
    "    \"66-109\": \"further PM values [mg/m³] (different algorithms)\",\n",
    "    \"110ff\": \"ΔCn [P/cm³] size distribution with size intervals as shown by the device under Expert User Mode / Particle Size Distribution / Table (10 s average)\",\n",
    "}\n",
    "df = pl.DataFrame()\n",
    "for root, dirs, files in os.walk(source):\n",
    "    for file in files:\n",
    "        src=os.path.join(root, file)\n",
    "        _ = pl.read_parquet(src)\n",
    "        # _ = _.with_columns(pl.col('dtm').str.to_datetime(format='%y-%m-%ddd %H:%M:%S'))\n",
    "        print(f\"{src} is of shape: {_.shape}\")\n",
    "        df = pl.concat([df, _], how='diagonal').sort('dtm')\n",
    "\n",
    "display(df.describe())\n",
    "\n",
    "field = '59'\n",
    "chart = (df.plot.line(x='dtm', y=field)).properties(width=500, title=\"FIDAS NRB\")\n",
    "chart.encoding.x.title = \"dtm\"\n",
    "chart.encoding.y.title = fidas_data_fields[field]\n",
    "chart\n"
   ]
  }
 ],
 "metadata": {
  "kernelspec": {
   "display_name": ".venv",
   "language": "python",
   "name": "python3"
  },
  "language_info": {
   "codemirror_mode": {
    "name": "ipython",
    "version": 3
   },
   "file_extension": ".py",
   "mimetype": "text/x-python",
   "name": "python",
   "nbconvert_exporter": "python",
   "pygments_lexer": "ipython3",
   "version": "3.12.3"
  }
 },
 "nbformat": 4,
 "nbformat_minor": 5
}
