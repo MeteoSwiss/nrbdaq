{
 "cells": [
  {
   "cell_type": "code",
   "execution_count": 3,
   "metadata": {},
   "outputs": [
    {
     "name": "stdout",
     "output_type": "stream",
     "text": [
      "retrieving from url_mogogosiek\n",
      "retrieving from url_nairobi\n",
      "retrieving from url_bomet\n"
     ]
    }
   ],
   "source": [
    "import os\n",
    "import polars as pl\n",
    "import nrbdaq.instr.avo as avo\n",
    "from nrbdaq.utils.utils import load_config\n",
    "\n",
    "config = load_config('nrbdaq.cfg')\n",
    "\n",
    "def main():\n",
    "    urls = dict(config['AVO'])\n",
    "    file_path = os.path.join(os.path.expanduser(config['data']['root']), 'avo')\n",
    "    avo.get_data_all(urls=urls, file_path=file_path)\n",
    "    \n",
    "if __name__ == \"__main__\":\n",
    "    main()"
   ]
  }
 ],
 "metadata": {
  "kernelspec": {
   "display_name": "Python 3",
   "language": "python",
   "name": "python3"
  },
  "language_info": {
   "codemirror_mode": {
    "name": "ipython",
    "version": 3
   },
   "file_extension": ".py",
   "mimetype": "text/x-python",
   "name": "python",
   "nbconvert_exporter": "python",
   "pygments_lexer": "ipython3",
   "version": "3.11.7"
  }
 },
 "nbformat": 4,
 "nbformat_minor": 2
}
